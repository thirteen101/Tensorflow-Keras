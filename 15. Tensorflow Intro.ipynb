{
 "cells": [
  {
   "cell_type": "code",
   "execution_count": 1,
   "metadata": {
    "colab": {},
    "colab_type": "code",
    "id": "rcGvdC1Ut6xz"
   },
   "outputs": [],
   "source": [
    "import tensorflow as tf"
   ]
  },
  {
   "cell_type": "code",
   "execution_count": 2,
   "metadata": {
    "colab": {},
    "colab_type": "code",
    "id": "3AthmLhKuDMq"
   },
   "outputs": [],
   "source": [
    "ts_c = tf.constant(2, name='ts_c')"
   ]
  },
  {
   "cell_type": "code",
   "execution_count": 3,
   "metadata": {
    "colab": {
     "base_uri": "https://localhost:8080/",
     "height": 35
    },
    "colab_type": "code",
    "executionInfo": {
     "elapsed": 2503,
     "status": "ok",
     "timestamp": 1560860466871,
     "user": {
      "displayName": "WEI-YU CHEN",
      "photoUrl": "https://lh5.googleusercontent.com/-ZhOppdoWK9o/AAAAAAAAAAI/AAAAAAAAFSM/vIA6v1GeqQg/s64/photo.jpg",
      "userId": "17785573646687049061"
     },
     "user_tz": -480
    },
    "id": "3p0_dRTv9Crh",
    "outputId": "fb3ffbd1-627d-4cac-a1ce-b16bc4a273ce"
   },
   "outputs": [
    {
     "data": {
      "text/plain": [
       "<tf.Tensor 'ts_c:0' shape=() dtype=int32>"
      ]
     },
     "execution_count": 3,
     "metadata": {},
     "output_type": "execute_result"
    }
   ],
   "source": [
    "ts_c"
   ]
  },
  {
   "cell_type": "code",
   "execution_count": 4,
   "metadata": {
    "colab": {},
    "colab_type": "code",
    "id": "qQ9uwYpdwwq9"
   },
   "outputs": [],
   "source": [
    "ts_x = tf.Variable(ts_c + 5, name='ts_x')"
   ]
  },
  {
   "cell_type": "code",
   "execution_count": 5,
   "metadata": {
    "colab": {
     "base_uri": "https://localhost:8080/",
     "height": 35
    },
    "colab_type": "code",
    "executionInfo": {
     "elapsed": 2481,
     "status": "ok",
     "timestamp": 1560860466879,
     "user": {
      "displayName": "WEI-YU CHEN",
      "photoUrl": "https://lh5.googleusercontent.com/-ZhOppdoWK9o/AAAAAAAAAAI/AAAAAAAAFSM/vIA6v1GeqQg/s64/photo.jpg",
      "userId": "17785573646687049061"
     },
     "user_tz": -480
    },
    "id": "hbUfiFyJ9F-B",
    "outputId": "a6f0bca2-adab-4706-c6b2-bbd5b709514b"
   },
   "outputs": [
    {
     "data": {
      "text/plain": [
       "<tf.Variable 'ts_x:0' shape=() dtype=int32_ref>"
      ]
     },
     "execution_count": 5,
     "metadata": {},
     "output_type": "execute_result"
    }
   ],
   "source": [
    "ts_x"
   ]
  },
  {
   "cell_type": "code",
   "execution_count": 6,
   "metadata": {
    "colab": {
     "base_uri": "https://localhost:8080/",
     "height": 89
    },
    "colab_type": "code",
    "executionInfo": {
     "elapsed": 2466,
     "status": "ok",
     "timestamp": 1560860466880,
     "user": {
      "displayName": "WEI-YU CHEN",
      "photoUrl": "https://lh5.googleusercontent.com/-ZhOppdoWK9o/AAAAAAAAAAI/AAAAAAAAFSM/vIA6v1GeqQg/s64/photo.jpg",
      "userId": "17785573646687049061"
     },
     "user_tz": -480
    },
    "id": "SgAVPC8iyjOy",
    "outputId": "2c308e4d-752e-4a2a-be9f-f1076a702bf4"
   },
   "outputs": [
    {
     "name": "stdout",
     "output_type": "stream",
     "text": [
      "ts_c= 2\n",
      "ts_x= 7\n",
      "ts_c= 2\n",
      "ts_x= 7\n"
     ]
    }
   ],
   "source": [
    "with tf.Session() as sess:\n",
    "    init = tf.global_variables_initializer()\n",
    "    sess.run(init)\n",
    "    print('ts_c=', sess.run(ts_c))\n",
    "    print('ts_x=', sess.run(ts_x))\n",
    "    print('ts_c=', ts_c.eval(session=sess))\n",
    "    print('ts_x=', ts_x.eval(session=sess))"
   ]
  },
  {
   "cell_type": "code",
   "execution_count": 7,
   "metadata": {
    "colab": {},
    "colab_type": "code",
    "id": "3jfZgqlZ-r25"
   },
   "outputs": [],
   "source": [
    "width = tf.placeholder('int32', name='width')\n",
    "height = tf.placeholder('int32', name='height')\n",
    "area = tf.multiply(width, height, name='area')"
   ]
  },
  {
   "cell_type": "code",
   "execution_count": 8,
   "metadata": {
    "colab": {
     "base_uri": "https://localhost:8080/",
     "height": 35
    },
    "colab_type": "code",
    "executionInfo": {
     "elapsed": 2759,
     "status": "ok",
     "timestamp": 1560860467196,
     "user": {
      "displayName": "WEI-YU CHEN",
      "photoUrl": "https://lh5.googleusercontent.com/-ZhOppdoWK9o/AAAAAAAAAAI/AAAAAAAAFSM/vIA6v1GeqQg/s64/photo.jpg",
      "userId": "17785573646687049061"
     },
     "user_tz": -480
    },
    "id": "xTn5VqwaB_sR",
    "outputId": "326b221b-87e0-490b-9ddb-16a3ea9ecb12"
   },
   "outputs": [
    {
     "name": "stdout",
     "output_type": "stream",
     "text": [
      "area= 48\n"
     ]
    }
   ],
   "source": [
    "with tf.Session() as sess:\n",
    "    init = tf.global_variables_initializer()\n",
    "    sess.run(init)\n",
    "    print('area=', sess.run(area, feed_dict={width: 6, height: 8}))"
   ]
  },
  {
   "cell_type": "code",
   "execution_count": 9,
   "metadata": {
    "colab": {},
    "colab_type": "code",
    "id": "EC0JmDp5Ewkh"
   },
   "outputs": [],
   "source": [
    "with tf.Session() as sess:\n",
    "    tf.summary.merge_all()\n",
    "    train_writer = tf.summary.FileWriter('log/area', sess.graph)"
   ]
  },
  {
   "cell_type": "code",
   "execution_count": 10,
   "metadata": {
    "colab": {},
    "colab_type": "code",
    "id": "mlm0NIpAKosF"
   },
   "outputs": [],
   "source": [
    "def tensor(ts_x):\n",
    "    with tf.Session() as sess:\n",
    "        init = tf.global_variables_initializer()\n",
    "        sess.run(init)\n",
    "        x = sess.run(ts_x)\n",
    "        print(x, x.shape)"
   ]
  },
  {
   "cell_type": "code",
   "execution_count": 11,
   "metadata": {
    "colab": {
     "base_uri": "https://localhost:8080/",
     "height": 35
    },
    "colab_type": "code",
    "executionInfo": {
     "elapsed": 902,
     "status": "ok",
     "timestamp": 1560860771578,
     "user": {
      "displayName": "WEI-YU CHEN",
      "photoUrl": "https://lh5.googleusercontent.com/-ZhOppdoWK9o/AAAAAAAAAAI/AAAAAAAAFSM/vIA6v1GeqQg/s64/photo.jpg",
      "userId": "17785573646687049061"
     },
     "user_tz": -480
    },
    "id": "xeIeR2tQjEg6",
    "outputId": "fe92ef69-4d92-4190-f112-0e69517766bd"
   },
   "outputs": [
    {
     "name": "stdout",
     "output_type": "stream",
     "text": [
      "[0.4 0.2 0.4] (3,)\n"
     ]
    }
   ],
   "source": [
    "tensor(tf.Variable([0.4, 0.2, 0.4]))"
   ]
  },
  {
   "cell_type": "code",
   "execution_count": 12,
   "metadata": {
    "colab": {
     "base_uri": "https://localhost:8080/",
     "height": 35
    },
    "colab_type": "code",
    "executionInfo": {
     "elapsed": 1015,
     "status": "ok",
     "timestamp": 1560860851749,
     "user": {
      "displayName": "WEI-YU CHEN",
      "photoUrl": "https://lh5.googleusercontent.com/-ZhOppdoWK9o/AAAAAAAAAAI/AAAAAAAAFSM/vIA6v1GeqQg/s64/photo.jpg",
      "userId": "17785573646687049061"
     },
     "user_tz": -480
    },
    "id": "Be9RIpp1jVqd",
    "outputId": "c5e9b954-0714-4f85-c08a-c860e905f687"
   },
   "outputs": [
    {
     "name": "stdout",
     "output_type": "stream",
     "text": [
      "[[0.4 0.2 0.4]] (1, 3)\n"
     ]
    }
   ],
   "source": [
    "tensor(tf.Variable([[0.4, 0.2, 0.4]]))"
   ]
  },
  {
   "cell_type": "code",
   "execution_count": 13,
   "metadata": {
    "colab": {
     "base_uri": "https://localhost:8080/",
     "height": 71
    },
    "colab_type": "code",
    "executionInfo": {
     "elapsed": 839,
     "status": "ok",
     "timestamp": 1560860991691,
     "user": {
      "displayName": "WEI-YU CHEN",
      "photoUrl": "https://lh5.googleusercontent.com/-ZhOppdoWK9o/AAAAAAAAAAI/AAAAAAAAFSM/vIA6v1GeqQg/s64/photo.jpg",
      "userId": "17785573646687049061"
     },
     "user_tz": -480
    },
    "id": "i7B-9nYejzNI",
    "outputId": "bcbce956-6e01-4616-da7b-c5d1e787dc9d"
   },
   "outputs": [
    {
     "name": "stdout",
     "output_type": "stream",
     "text": [
      "[[-0.5 -0.2]\n",
      " [-0.3  0.4]\n",
      " [-0.5  0.2]] (3, 2)\n"
     ]
    }
   ],
   "source": [
    "tensor(tf.Variable([[-0.5, -0.2], [-0.3, 0.4], [-0.5, 0.2]]))"
   ]
  },
  {
   "cell_type": "code",
   "execution_count": 14,
   "metadata": {
    "colab": {
     "base_uri": "https://localhost:8080/",
     "height": 35
    },
    "colab_type": "code",
    "executionInfo": {
     "elapsed": 783,
     "status": "ok",
     "timestamp": 1560861618765,
     "user": {
      "displayName": "WEI-YU CHEN",
      "photoUrl": "https://lh5.googleusercontent.com/-ZhOppdoWK9o/AAAAAAAAAAI/AAAAAAAAFSM/vIA6v1GeqQg/s64/photo.jpg",
      "userId": "17785573646687049061"
     },
     "user_tz": -480
    },
    "id": "EyH6kpJElrua",
    "outputId": "179dad82-6814-4911-e454-10429b02b8ff"
   },
   "outputs": [
    {
     "name": "stdout",
     "output_type": "stream",
     "text": [
      "[[-1.3  0.4]] (1, 2)\n"
     ]
    }
   ],
   "source": [
    "x = tf.Variable([[1., 1., 1.]])\n",
    "w = tf.Variable([[-0.5, -0.2], [-0.3, 0.4], [-0.5, 0.2]])\n",
    "xw = tf.matmul(x, w)\n",
    "tensor(xw)"
   ]
  },
  {
   "cell_type": "code",
   "execution_count": 15,
   "metadata": {
    "colab": {
     "base_uri": "https://localhost:8080/",
     "height": 35
    },
    "colab_type": "code",
    "executionInfo": {
     "elapsed": 762,
     "status": "ok",
     "timestamp": 1560862129194,
     "user": {
      "displayName": "WEI-YU CHEN",
      "photoUrl": "https://lh5.googleusercontent.com/-ZhOppdoWK9o/AAAAAAAAAAI/AAAAAAAAFSM/vIA6v1GeqQg/s64/photo.jpg",
      "userId": "17785573646687049061"
     },
     "user_tz": -480
    },
    "id": "wgTmWl9WoDld",
    "outputId": "c69e7b09-b143-4b71-cdf7-1b12bce1006b"
   },
   "outputs": [
    {
     "name": "stdout",
     "output_type": "stream",
     "text": [
      "[[-1.1999999  0.6      ]] (1, 2)\n"
     ]
    }
   ],
   "source": [
    "a = tf.Variable([[0.1, 0.2]])\n",
    "b = tf.Variable([[-1.3, 0.4]])\n",
    "sum = a + b\n",
    "tensor(sum)"
   ]
  },
  {
   "cell_type": "code",
   "execution_count": 16,
   "metadata": {
    "colab": {
     "base_uri": "https://localhost:8080/",
     "height": 35
    },
    "colab_type": "code",
    "executionInfo": {
     "elapsed": 885,
     "status": "ok",
     "timestamp": 1560862236713,
     "user": {
      "displayName": "WEI-YU CHEN",
      "photoUrl": "https://lh5.googleusercontent.com/-ZhOppdoWK9o/AAAAAAAAAAI/AAAAAAAAFSM/vIA6v1GeqQg/s64/photo.jpg",
      "userId": "17785573646687049061"
     },
     "user_tz": -480
    },
    "id": "WOPGzbKtoq6Q",
    "outputId": "8fbadaab-86d9-4679-aa0e-69e6d3931a86"
   },
   "outputs": [
    {
     "name": "stdout",
     "output_type": "stream",
     "text": [
      "[[-1.1999999  0.6      ]] (1, 2)\n"
     ]
    }
   ],
   "source": [
    "xmw = tf.matmul(x, w) + a\n",
    "tensor(xmw)"
   ]
  }
 ],
 "metadata": {
  "colab": {
   "collapsed_sections": [],
   "name": "“test.ipynb”的副本",
   "provenance": [
    {
     "file_id": "1-eXt6KhyiOP5J4Id1HaXUhUGZpL5KmAo",
     "timestamp": 1560862308891
    }
   ],
   "version": "0.3.2"
  },
  "kernelspec": {
   "display_name": "Python 3",
   "language": "python",
   "name": "python3"
  },
  "language_info": {
   "codemirror_mode": {
    "name": "ipython",
    "version": 3
   },
   "file_extension": ".py",
   "mimetype": "text/x-python",
   "name": "python",
   "nbconvert_exporter": "python",
   "pygments_lexer": "ipython3",
   "version": "3.7.3"
  },
  "pycharm": {
   "stem_cell": {
    "cell_type": "raw",
    "metadata": {
     "collapsed": false
    },
    "source": []
   }
  }
 },
 "nbformat": 4,
 "nbformat_minor": 1
}
