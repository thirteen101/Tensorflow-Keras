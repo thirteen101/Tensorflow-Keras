{
 "cells": [
  {
   "cell_type": "code",
   "execution_count": 1,
   "metadata": {
    "colab": {},
    "colab_type": "code",
    "id": "Ou03xB2lcWJ0"
   },
   "outputs": [],
   "source": [
    "%matplotlib inline"
   ]
  },
  {
   "cell_type": "code",
   "execution_count": 2,
   "metadata": {
    "colab": {},
    "colab_type": "code",
    "id": "GSlP9pYWLG5t"
   },
   "outputs": [],
   "source": [
    "import matplotlib.pyplot as plt\n",
    "import numpy as np\n",
    "import tensorflow as tf\n",
    "import tensorflow.examples.tutorials.mnist.input_data as inpur_data\n",
    "import time"
   ]
  },
  {
   "cell_type": "code",
   "execution_count": 3,
   "metadata": {
    "colab": {
     "base_uri": "https://localhost:8080/",
     "height": 451
    },
    "colab_type": "code",
    "executionInfo": {
     "elapsed": 4074,
     "status": "ok",
     "timestamp": 1560962363060,
     "user": {
      "displayName": "WEI-YU CHEN",
      "photoUrl": "https://lh5.googleusercontent.com/-ZhOppdoWK9o/AAAAAAAAAAI/AAAAAAAAFSM/vIA6v1GeqQg/s64/photo.jpg",
      "userId": "17785573646687049061"
     },
     "user_tz": -480
    },
    "id": "hFBP5DrdLegY",
    "outputId": "bc019ecf-e55a-475e-8b4e-81568ebeb122"
   },
   "outputs": [
    {
     "name": "stderr",
     "output_type": "stream",
     "text": [
      "WARNING: Logging before flag parsing goes to stderr.\n",
      "W0624 14:07:43.788799  6720 deprecation.py:323] From <ipython-input-3-556e3ae212a3>:1: read_data_sets (from tensorflow.contrib.learn.python.learn.datasets.mnist) is deprecated and will be removed in a future version.\n",
      "Instructions for updating:\n",
      "Please use alternatives such as official/mnist/dataset.py from tensorflow/models.\n",
      "W0624 14:07:43.796793  6720 deprecation.py:323] From D:\\Anaconda3\\envs\\tensorflow\\lib\\site-packages\\tensorflow\\contrib\\learn\\python\\learn\\datasets\\mnist.py:260: maybe_download (from tensorflow.contrib.learn.python.learn.datasets.base) is deprecated and will be removed in a future version.\n",
      "Instructions for updating:\n",
      "Please write your own downloading logic.\n",
      "W0624 14:07:43.797791  6720 deprecation.py:323] From D:\\Anaconda3\\envs\\tensorflow\\lib\\site-packages\\tensorflow\\contrib\\learn\\python\\learn\\datasets\\mnist.py:262: extract_images (from tensorflow.contrib.learn.python.learn.datasets.mnist) is deprecated and will be removed in a future version.\n",
      "Instructions for updating:\n",
      "Please use tf.data to implement this functionality.\n"
     ]
    },
    {
     "name": "stdout",
     "output_type": "stream",
     "text": [
      "Extracting MNIST_data/train-images-idx3-ubyte.gz\n"
     ]
    },
    {
     "name": "stderr",
     "output_type": "stream",
     "text": [
      "W0624 14:07:44.175559  6720 deprecation.py:323] From D:\\Anaconda3\\envs\\tensorflow\\lib\\site-packages\\tensorflow\\contrib\\learn\\python\\learn\\datasets\\mnist.py:267: extract_labels (from tensorflow.contrib.learn.python.learn.datasets.mnist) is deprecated and will be removed in a future version.\n",
      "Instructions for updating:\n",
      "Please use tf.data to implement this functionality.\n",
      "W0624 14:07:44.178558  6720 deprecation.py:323] From D:\\Anaconda3\\envs\\tensorflow\\lib\\site-packages\\tensorflow\\contrib\\learn\\python\\learn\\datasets\\mnist.py:110: dense_to_one_hot (from tensorflow.contrib.learn.python.learn.datasets.mnist) is deprecated and will be removed in a future version.\n",
      "Instructions for updating:\n",
      "Please use tf.one_hot on tensors.\n",
      "W0624 14:07:44.250514  6720 deprecation.py:323] From D:\\Anaconda3\\envs\\tensorflow\\lib\\site-packages\\tensorflow\\contrib\\learn\\python\\learn\\datasets\\mnist.py:290: DataSet.__init__ (from tensorflow.contrib.learn.python.learn.datasets.mnist) is deprecated and will be removed in a future version.\n",
      "Instructions for updating:\n",
      "Please use alternatives such as official/mnist/dataset.py from tensorflow/models.\n"
     ]
    },
    {
     "name": "stdout",
     "output_type": "stream",
     "text": [
      "Extracting MNIST_data/train-labels-idx1-ubyte.gz\n",
      "Extracting MNIST_data/t10k-images-idx3-ubyte.gz\n",
      "Extracting MNIST_data/t10k-labels-idx1-ubyte.gz\n"
     ]
    }
   ],
   "source": [
    "mnist = inpur_data.read_data_sets('MNIST_data/', one_hot=True)"
   ]
  },
  {
   "cell_type": "code",
   "execution_count": 4,
   "metadata": {
    "colab": {},
    "colab_type": "code",
    "id": "E8YAHfmHL8Tp"
   },
   "outputs": [],
   "source": [
    "def layer(output_dim, input_dim, inputs, activation=None):\n",
    "    w = tf.Variable(tf.random_normal([input_dim, output_dim]))\n",
    "    b = tf.Variable(tf.random_normal([1, output_dim]))\n",
    "    xwb = tf.matmul(inputs, w) + b\n",
    "    if activation is None:\n",
    "        outputs = xwb\n",
    "    else:\n",
    "        outputs = activation(xwb)\n",
    "    return outputs"
   ]
  },
  {
   "cell_type": "code",
   "execution_count": 5,
   "metadata": {
    "colab": {},
    "colab_type": "code",
    "id": "c7vpL_hDPfkk"
   },
   "outputs": [],
   "source": [
    "x = tf.placeholder('float', [None, 784])"
   ]
  },
  {
   "cell_type": "code",
   "execution_count": 6,
   "metadata": {
    "colab": {},
    "colab_type": "code",
    "id": "CTmtOadOPs-l"
   },
   "outputs": [],
   "source": [
    "h1 = layer(output_dim=1000, input_dim=784, inputs=x, activation=tf.nn.relu)"
   ]
  },
  {
   "cell_type": "code",
   "execution_count": 7,
   "metadata": {
    "colab": {},
    "colab_type": "code",
    "id": "0mW4ZzTyiBeJ"
   },
   "outputs": [],
   "source": [
    "h2 = layer(output_dim=1000, input_dim=1000, inputs=h1, activation=tf.nn.relu)"
   ]
  },
  {
   "cell_type": "code",
   "execution_count": 8,
   "metadata": {
    "colab": {},
    "colab_type": "code",
    "id": "3yO-OIj-QJFx"
   },
   "outputs": [],
   "source": [
    "y_predict = layer(output_dim=10, input_dim=1000, inputs=h1, activation=None)"
   ]
  },
  {
   "cell_type": "code",
   "execution_count": 9,
   "metadata": {
    "colab": {},
    "colab_type": "code",
    "id": "s3RTRGNAQa_r"
   },
   "outputs": [],
   "source": [
    "y_label = tf.placeholder('float', [None, 10])"
   ]
  },
  {
   "cell_type": "code",
   "execution_count": 10,
   "metadata": {
    "colab": {
     "base_uri": "https://localhost:8080/",
     "height": 181
    },
    "colab_type": "code",
    "executionInfo": {
     "elapsed": 4069,
     "status": "ok",
     "timestamp": 1560962363096,
     "user": {
      "displayName": "WEI-YU CHEN",
      "photoUrl": "https://lh5.googleusercontent.com/-ZhOppdoWK9o/AAAAAAAAAAI/AAAAAAAAFSM/vIA6v1GeqQg/s64/photo.jpg",
      "userId": "17785573646687049061"
     },
     "user_tz": -480
    },
    "id": "7h5wTsrYQuX2",
    "outputId": "94668c58-f7d6-4707-e88e-e8af168b3497"
   },
   "outputs": [
    {
     "name": "stderr",
     "output_type": "stream",
     "text": [
      "W0624 14:07:48.514761  6720 deprecation.py:323] From <ipython-input-10-30de2dec7946>:1: softmax_cross_entropy_with_logits (from tensorflow.python.ops.nn_ops) is deprecated and will be removed in a future version.\n",
      "Instructions for updating:\n",
      "\n",
      "Future major versions of TensorFlow will allow gradients to flow\n",
      "into the labels input on backprop by default.\n",
      "\n",
      "See `tf.nn.softmax_cross_entropy_with_logits_v2`.\n",
      "\n"
     ]
    }
   ],
   "source": [
    "loss_function = tf.reduce_mean(tf.nn.softmax_cross_entropy_with_logits(logits=y_predict, labels=y_label))"
   ]
  },
  {
   "cell_type": "code",
   "execution_count": 11,
   "metadata": {
    "colab": {},
    "colab_type": "code",
    "id": "ZfxX-6rARtTA"
   },
   "outputs": [],
   "source": [
    "optimizer = tf.train.AdamOptimizer(learning_rate=0.001).minimize(loss_function)"
   ]
  },
  {
   "cell_type": "code",
   "execution_count": 12,
   "metadata": {
    "colab": {
     "base_uri": "https://localhost:8080/",
     "height": 91
    },
    "colab_type": "code",
    "executionInfo": {
     "elapsed": 4392,
     "status": "ok",
     "timestamp": 1560962363439,
     "user": {
      "displayName": "WEI-YU CHEN",
      "photoUrl": "https://lh5.googleusercontent.com/-ZhOppdoWK9o/AAAAAAAAAAI/AAAAAAAAFSM/vIA6v1GeqQg/s64/photo.jpg",
      "userId": "17785573646687049061"
     },
     "user_tz": -480
    },
    "id": "wmon4us0SMqR",
    "outputId": "e6c24aeb-4106-4c8f-afa5-475d6d4b032c"
   },
   "outputs": [
    {
     "name": "stderr",
     "output_type": "stream",
     "text": [
      "W0624 14:07:49.008455  6720 deprecation.py:323] From <ipython-input-12-c03b869da5b0>:1: arg_max (from tensorflow.python.ops.gen_math_ops) is deprecated and will be removed in a future version.\n",
      "Instructions for updating:\n",
      "Use `tf.math.argmax` instead\n"
     ]
    }
   ],
   "source": [
    "correct_prediction = tf.equal(tf.arg_max(y_label, 1), tf.arg_max(y_predict, 1))"
   ]
  },
  {
   "cell_type": "code",
   "execution_count": 13,
   "metadata": {
    "colab": {},
    "colab_type": "code",
    "id": "ppKjyY7yWpHG"
   },
   "outputs": [],
   "source": [
    "accuracy = tf.reduce_mean(tf.cast(correct_prediction, 'float'))"
   ]
  },
  {
   "cell_type": "code",
   "execution_count": 14,
   "metadata": {
    "colab": {},
    "colab_type": "code",
    "id": "zL76m3eOW30I"
   },
   "outputs": [],
   "source": [
    "train_epochs = 15\n",
    "batch_size = 100\n",
    "total_batchs = int(mnist.train.num_examples / batch_size)\n",
    "loss_list = []\n",
    "epoch_list = []\n",
    "accuracy_list = []\n",
    "\n",
    "start_time = time.time()\n",
    "\n",
    "sess = tf.Session()\n",
    "sess.run(tf.global_variables_initializer())"
   ]
  },
  {
   "cell_type": "code",
   "execution_count": 15,
   "metadata": {
    "colab": {
     "base_uri": "https://localhost:8080/",
     "height": 305
    },
    "colab_type": "code",
    "executionInfo": {
     "elapsed": 93283,
     "status": "ok",
     "timestamp": 1560962452347,
     "user": {
      "displayName": "WEI-YU CHEN",
      "photoUrl": "https://lh5.googleusercontent.com/-ZhOppdoWK9o/AAAAAAAAAAI/AAAAAAAAFSM/vIA6v1GeqQg/s64/photo.jpg",
      "userId": "17785573646687049061"
     },
     "user_tz": -480
    },
    "id": "3ath7pqbYFvh",
    "outputId": "684f76a9-a8b1-4710-d47c-e14a61e77c26"
   },
   "outputs": [
    {
     "name": "stdout",
     "output_type": "stream",
     "text": [
      "Train Epoch: 01 Loss= 8.596482277 Accuracy= 0.8864\n",
      "Train Epoch: 02 Loss= 5.546602249 Accuracy= 0.915\n",
      "Train Epoch: 03 Loss= 4.754313469 Accuracy= 0.9242\n",
      "Train Epoch: 04 Loss= 3.940591812 Accuracy= 0.9332\n",
      "Train Epoch: 05 Loss= 3.595865726 Accuracy= 0.9368\n",
      "Train Epoch: 06 Loss= 3.264836550 Accuracy= 0.9422\n",
      "Train Epoch: 07 Loss= 2.901438236 Accuracy= 0.9482\n",
      "Train Epoch: 08 Loss= 2.875448465 Accuracy= 0.9464\n",
      "Train Epoch: 09 Loss= 2.897874117 Accuracy= 0.9486\n",
      "Train Epoch: 10 Loss= 2.631164551 Accuracy= 0.9528\n",
      "Train Epoch: 11 Loss= 2.682693243 Accuracy= 0.9502\n",
      "Train Epoch: 12 Loss= 2.529482365 Accuracy= 0.9544\n",
      "Train Epoch: 13 Loss= 2.597662926 Accuracy= 0.9568\n",
      "Train Epoch: 14 Loss= 2.413704395 Accuracy= 0.9568\n",
      "Train Epoch: 15 Loss= 2.449710608 Accuracy= 0.9572\n",
      "Train Finished takes: 110.82513523101807\n"
     ]
    }
   ],
   "source": [
    "for epoch in range(train_epochs):\n",
    "    for i in range(total_batchs):\n",
    "        batch_x, batch_y = mnist.train.next_batch(batch_size)\n",
    "        sess.run(optimizer, feed_dict={x: batch_x, y_label: batch_y})\n",
    "    loss, acc = sess.run([loss_function, accuracy], feed_dict={x: mnist.validation.images, y_label: mnist.validation.labels})\n",
    "    epoch_list.append(epoch)\n",
    "    loss_list.append(loss)\n",
    "    accuracy_list.append(acc)\n",
    "    print('Train Epoch:', '%02d' % (epoch + 1), 'Loss=', '{:.9f}'.format(loss), 'Accuracy=', acc)\n",
    "duration = time.time() - start_time\n",
    "print('Train Finished takes:', duration)"
   ]
  },
  {
   "cell_type": "code",
   "execution_count": 16,
   "metadata": {
    "colab": {
     "base_uri": "https://localhost:8080/",
     "height": 192
    },
    "colab_type": "code",
    "executionInfo": {
     "elapsed": 93272,
     "status": "ok",
     "timestamp": 1560962452350,
     "user": {
      "displayName": "WEI-YU CHEN",
      "photoUrl": "https://lh5.googleusercontent.com/-ZhOppdoWK9o/AAAAAAAAAAI/AAAAAAAAFSM/vIA6v1GeqQg/s64/photo.jpg",
      "userId": "17785573646687049061"
     },
     "user_tz": -480
    },
    "id": "CK7PNnmWc-gr",
    "outputId": "60fd5ed4-36e3-4bf8-e0ca-a008ea05edd4"
   },
   "outputs": [
    {
     "data": {
      "text/plain": [
       "<matplotlib.legend.Legend at 0x23925040128>"
      ]
     },
     "execution_count": 16,
     "metadata": {},
     "output_type": "execute_result"
    },
    {
     "data": {
      "image/png": "[encoded data removed]",
      "text/plain": [
       "<Figure size 288x144 with 1 Axes>"
      ]
     },
     "metadata": {
      "needs_background": "light"
     },
     "output_type": "display_data"
    }
   ],
   "source": [
    "fig = plt.gcf()\n",
    "fig.set_size_inches(4, 2)\n",
    "plt.plot(epoch_list, loss_list, label='loss')\n",
    "plt.ylabel('loss')\n",
    "plt.xlabel('epoch')\n",
    "plt.legend(['loss'], loc='upper right')"
   ]
  },
  {
   "cell_type": "code",
   "execution_count": 17,
   "metadata": {
    "colab": {
     "base_uri": "https://localhost:8080/",
     "height": 193
    },
    "colab_type": "code",
    "executionInfo": {
     "elapsed": 93254,
     "status": "ok",
     "timestamp": 1560962452352,
     "user": {
      "displayName": "WEI-YU CHEN",
      "photoUrl": "https://lh5.googleusercontent.com/-ZhOppdoWK9o/AAAAAAAAAAI/AAAAAAAAFSM/vIA6v1GeqQg/s64/photo.jpg",
      "userId": "17785573646687049061"
     },
     "user_tz": -480
    },
    "id": "-z894zZiePJW",
    "outputId": "f61b003e-2597-4023-f5c3-188d33e72a9c"
   },
   "outputs": [
    {
     "data": {
      "text/plain": [
       "<matplotlib.legend.Legend at 0x239275f6780>"
      ]
     },
     "execution_count": 17,
     "metadata": {},
     "output_type": "execute_result"
    },
    {
     "data": {
      "image/png": "[encoded data removed]",
      "text/plain": [
       "<Figure size 288x144 with 1 Axes>"
      ]
     },
     "metadata": {
      "needs_background": "light"
     },
     "output_type": "display_data"
    }
   ],
   "source": [
    "plt.plot(epoch_list, accuracy_list, label='accuracy')\n",
    "fig = plt.gcf()\n",
    "fig.set_size_inches(4, 2)\n",
    "plt.ylim(0.8, 1)\n",
    "plt.ylabel('accuracy')\n",
    "plt.xlabel('epoch')\n",
    "plt.legend(['accuracy'], loc='lower right')"
   ]
  },
  {
   "cell_type": "code",
   "execution_count": 18,
   "metadata": {
    "colab": {
     "base_uri": "https://localhost:8080/",
     "height": 35
    },
    "colab_type": "code",
    "executionInfo": {
     "elapsed": 93549,
     "status": "ok",
     "timestamp": 1560962452665,
     "user": {
      "displayName": "WEI-YU CHEN",
      "photoUrl": "https://lh5.googleusercontent.com/-ZhOppdoWK9o/AAAAAAAAAAI/AAAAAAAAFSM/vIA6v1GeqQg/s64/photo.jpg",
      "userId": "17785573646687049061"
     },
     "user_tz": -480
    },
    "id": "1YXu7yRGe-9R",
    "outputId": "55bce3c2-9964-4412-dd4c-5247d553256b"
   },
   "outputs": [
    {
     "name": "stdout",
     "output_type": "stream",
     "text": [
      "Accuracy: 0.9546\n"
     ]
    }
   ],
   "source": [
    "print('Accuracy:', sess.run(accuracy, feed_dict={x: mnist.test.images, y_label: mnist.test.labels}))"
   ]
  },
  {
   "cell_type": "code",
   "execution_count": 19,
   "metadata": {
    "colab": {},
    "colab_type": "code",
    "id": "JKsjmHmXfcmP"
   },
   "outputs": [],
   "source": [
    "prediction_result = sess.run(tf.arg_max(y_predict, 1), feed_dict={x: mnist.test.images})"
   ]
  },
  {
   "cell_type": "code",
   "execution_count": 20,
   "metadata": {
    "colab": {
     "base_uri": "https://localhost:8080/",
     "height": 35
    },
    "colab_type": "code",
    "executionInfo": {
     "elapsed": 93543,
     "status": "ok",
     "timestamp": 1560962452672,
     "user": {
      "displayName": "WEI-YU CHEN",
      "photoUrl": "https://lh5.googleusercontent.com/-ZhOppdoWK9o/AAAAAAAAAAI/AAAAAAAAFSM/vIA6v1GeqQg/s64/photo.jpg",
      "userId": "17785573646687049061"
     },
     "user_tz": -480
    },
    "id": "KV-O5crAfxMg",
    "outputId": "03f573b1-a19a-48e3-89b9-754552d6eb59"
   },
   "outputs": [
    {
     "data": {
      "text/plain": [
       "array([7, 2, 1, 0, 4, 1, 4, 9, 5, 9], dtype=int64)"
      ]
     },
     "execution_count": 20,
     "metadata": {},
     "output_type": "execute_result"
    }
   ],
   "source": [
    "prediction_result[:10]"
   ]
  },
  {
   "cell_type": "code",
   "execution_count": 21,
   "metadata": {
    "colab": {},
    "colab_type": "code",
    "id": "fUvntQrBgstW"
   },
   "outputs": [],
   "source": [
    "def plot_images_labels_prediction(images, labels, prediction, idx, num=10):\n",
    "    fig = plt.gcf()\n",
    "    fig.set_size_inches(12, 14)\n",
    "    if num > 25: num = 25\n",
    "    for i in range(0, num):\n",
    "        ax = plt.subplot(5, 5, i + 1)\n",
    "        ax.imshow(np.reshape(images[idx], (28, 28)), cmap='binary')\n",
    "        title = 'label=' + str(np.argmax(labels[idx]))\n",
    "        if len(prediction) > 0:\n",
    "            title += ', predict=' + str(prediction[idx])\n",
    "        ax.set_title(title, fontsize=10)\n",
    "        ax.set_xticks([])\n",
    "        ax.set_yticks([])\n",
    "        idx += 1\n",
    "    plt.show()"
   ]
  },
  {
   "cell_type": "code",
   "execution_count": 22,
   "metadata": {
    "colab": {
     "base_uri": "https://localhost:8080/",
     "height": 321
    },
    "colab_type": "code",
    "executionInfo": {
     "elapsed": 94084,
     "status": "ok",
     "timestamp": 1560962453227,
     "user": {
      "displayName": "WEI-YU CHEN",
      "photoUrl": "https://lh5.googleusercontent.com/-ZhOppdoWK9o/AAAAAAAAAAI/AAAAAAAAFSM/vIA6v1GeqQg/s64/photo.jpg",
      "userId": "17785573646687049061"
     },
     "user_tz": -480
    },
    "id": "Q0JZMNCjgvxr",
    "outputId": "8949c440-2538-4757-b331-b7d0c9fc439b"
   },
   "outputs": [
    {
     "data": {
      "image/png": "[encoded data removed]",
      "text/plain": [
       "<Figure size 864x1008 with 10 Axes>"
      ]
     },
     "metadata": {},
     "output_type": "display_data"
    }
   ],
   "source": [
    "plot_images_labels_prediction(mnist.test.images, mnist.test.labels, prediction_result, 0)"
   ]
  }
 ],
 "metadata": {
  "colab": {
   "collapsed_sections": [],
   "name": "18. Tensorflow MLP.ipynb",
   "provenance": [],
   "version": "0.3.2"
  },
  "kernelspec": {
   "display_name": "Python 3",
   "language": "python",
   "name": "python3"
  },
  "language_info": {
   "codemirror_mode": {
    "name": "ipython",
    "version": 3
   },
   "file_extension": ".py",
   "mimetype": "text/x-python",
   "name": "python",
   "nbconvert_exporter": "python",
   "pygments_lexer": "ipython3",
   "version": "3.7.3"
  },
  "pycharm": {
   "stem_cell": {
    "cell_type": "raw",
    "metadata": {
     "collapsed": false
    },
    "source": []
   }
  }
 },
 "nbformat": 4,
 "nbformat_minor": 1
}
