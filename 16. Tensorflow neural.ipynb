{
 "cells": [
  {
   "cell_type": "code",
   "execution_count": 1,
   "metadata": {
    "colab": {},
    "colab_type": "code",
    "id": "HLhP7QStEcjZ"
   },
   "outputs": [],
   "source": [
    "%matplotlib inline"
   ]
  },
  {
   "cell_type": "code",
   "execution_count": 2,
   "metadata": {
    "colab": {},
    "colab_type": "code",
    "id": "40Zpy6p2ElOz"
   },
   "outputs": [],
   "source": [
    "import matplotlib.pyplot as plt"
   ]
  },
  {
   "cell_type": "code",
   "execution_count": 3,
   "metadata": {
    "colab": {},
    "colab_type": "code",
    "id": "CbQWI7ZsRU4l"
   },
   "outputs": [],
   "source": [
    "import numpy as np"
   ]
  },
  {
   "cell_type": "code",
   "execution_count": 4,
   "metadata": {
    "colab": {},
    "colab_type": "code",
    "id": "BcXMqc8b41vP"
   },
   "outputs": [],
   "source": [
    "import tensorflow as tf"
   ]
  },
  {
   "cell_type": "code",
   "execution_count": 5,
   "metadata": {
    "colab": {},
    "colab_type": "code",
    "id": "TOKJM1E85iHO"
   },
   "outputs": [],
   "source": [
    "def tensor(tf_run):\n",
    "    with tf.Session() as sess:\n",
    "        sess.run(tf.global_variables_initializer())\n",
    "        print(sess.run(tf_run))"
   ]
  },
  {
   "cell_type": "code",
   "execution_count": 6,
   "metadata": {
    "colab": {},
    "colab_type": "code",
    "id": "NkuNTBKn7eYq"
   },
   "outputs": [],
   "source": [
    "x = tf.Variable([[0.4, 0.2, 0.4]])\n",
    "w = tf.Variable([[-0.5, -0.2], [-0.3, 0.4], [-0.5, 0.2]])\n",
    "b = tf.Variable([[0.1, 0.2]])"
   ]
  },
  {
   "cell_type": "code",
   "execution_count": 7,
   "metadata": {
    "colab": {
     "base_uri": "https://localhost:8080/",
     "height": 51
    },
    "colab_type": "code",
    "executionInfo": {
     "elapsed": 2563,
     "status": "ok",
     "timestamp": 1560917636638,
     "user": {
      "displayName": "WEI-YU CHEN",
      "photoUrl": "https://lh5.googleusercontent.com/-ZhOppdoWK9o/AAAAAAAAAAI/AAAAAAAAFSM/vIA6v1GeqQg/s64/photo.jpg",
      "userId": "17785573646687049061"
     },
     "user_tz": -480
    },
    "id": "qZBX9Ke78o-d",
    "outputId": "afebf307-055d-4f80-c72f-cfe0f1158717"
   },
   "outputs": [
    {
     "name": "stdout",
     "output_type": "stream",
     "text": [
      "[[-0.35999998  0.28      ]]\n",
      "[[0.   0.28]]\n"
     ]
    }
   ],
   "source": [
    "tensor(tf.matmul(x, w) + b)\n",
    "tensor(tf.nn.relu(tf.matmul(x, w) + b))"
   ]
  },
  {
   "cell_type": "code",
   "execution_count": 8,
   "metadata": {
    "colab": {
     "base_uri": "https://localhost:8080/",
     "height": 51
    },
    "colab_type": "code",
    "executionInfo": {
     "elapsed": 2518,
     "status": "ok",
     "timestamp": 1560917636640,
     "user": {
      "displayName": "WEI-YU CHEN",
      "photoUrl": "https://lh5.googleusercontent.com/-ZhOppdoWK9o/AAAAAAAAAAI/AAAAAAAAFSM/vIA6v1GeqQg/s64/photo.jpg",
      "userId": "17785573646687049061"
     },
     "user_tz": -480
    },
    "id": "n4kSi0oaClCp",
    "outputId": "fded3229-2fdb-4c25-cd62-331ba9498899"
   },
   "outputs": [
    {
     "name": "stdout",
     "output_type": "stream",
     "text": [
      "[[-0.35999998  0.28      ]]\n",
      "[[0.41095957 0.5695462 ]]\n"
     ]
    }
   ],
   "source": [
    "tensor(tf.matmul(x, w) + b)\n",
    "tensor(tf.nn.sigmoid(tf.matmul(x, w) + b))"
   ]
  },
  {
   "cell_type": "code",
   "execution_count": 9,
   "metadata": {
    "colab": {
     "base_uri": "https://localhost:8080/",
     "height": 103
    },
    "colab_type": "code",
    "executionInfo": {
     "elapsed": 2468,
     "status": "ok",
     "timestamp": 1560917636642,
     "user": {
      "displayName": "WEI-YU CHEN",
      "photoUrl": "https://lh5.googleusercontent.com/-ZhOppdoWK9o/AAAAAAAAAAI/AAAAAAAAFSM/vIA6v1GeqQg/s64/photo.jpg",
      "userId": "17785573646687049061"
     },
     "user_tz": -480
    },
    "id": "5OnDkhsnG6ct",
    "outputId": "851c58d6-ede5-4b4f-8238-fad7d5b571c6"
   },
   "outputs": [
    {
     "name": "stdout",
     "output_type": "stream",
     "text": [
      "b [[ 0.22331442 -0.22237805]]\n",
      "w [[1.4712597  1.3490782 ]\n",
      " [0.0123896  1.1480132 ]\n",
      " [1.0491321  0.34227476]]\n",
      "y [[1.2339491  0.68376577]]\n"
     ]
    }
   ],
   "source": [
    "w = tf.Variable(tf.random_normal([3, 2]))\n",
    "b = tf.Variable(tf.random_normal([1, 2]))\n",
    "x = tf.Variable([[0.4, 0.2, 0.4]])\n",
    "y = tf.nn.relu(tf.matmul(x, w) + b)\n",
    "with tf.Session() as sess:\n",
    "    sess.run(tf.global_variables_initializer())\n",
    "    (_b, _w, _y) = sess.run((b, w, y))\n",
    "    print('b', _b)\n",
    "    print('w', _w)\n",
    "    print('y', _y)"
   ]
  },
  {
   "cell_type": "code",
   "execution_count": 10,
   "metadata": {
    "colab": {
     "base_uri": "https://localhost:8080/",
     "height": 382
    },
    "colab_type": "code",
    "executionInfo": {
     "elapsed": 2741,
     "status": "ok",
     "timestamp": 1560917636952,
     "user": {
      "displayName": "WEI-YU CHEN",
      "photoUrl": "https://lh5.googleusercontent.com/-ZhOppdoWK9o/AAAAAAAAAAI/AAAAAAAAFSM/vIA6v1GeqQg/s64/photo.jpg",
      "userId": "17785573646687049061"
     },
     "user_tz": -480
    },
    "id": "2oXqOquGOCCq",
    "outputId": "5884d36e-2238-4b86-b3e2-4ec792b27291"
   },
   "outputs": [
    {
     "data": {
      "text/plain": [
       "(array([ 24.,  65., 140., 253., 246., 179.,  74.,  17.,   1.,   1.]),\n",
       " array([-2.7710319e+00, -2.0790129e+00, -1.3869938e+00, -6.9497478e-01,\n",
       "        -2.9557229e-03,  6.8906331e-01,  1.3810823e+00,  2.0731013e+00,\n",
       "         2.7651205e+00,  3.4571395e+00,  4.1491585e+00], dtype=float32),\n",
       " <a list of 10 Patch objects>)"
      ]
     },
     "execution_count": 10,
     "metadata": {},
     "output_type": "execute_result"
    },
    {
     "data": {
      "image/png": "[encoded data removed]",
      "text/plain": [
       "<Figure size 432x288 with 1 Axes>"
      ]
     },
     "metadata": {
      "needs_background": "light"
     },
     "output_type": "display_data"
    }
   ],
   "source": [
    "ts_norm = tf.random_normal([1000])\n",
    "with tf.Session() as sess:\n",
    "    norm_data = ts_norm.eval()\n",
    "plt.hist(norm_data)"
   ]
  },
  {
   "cell_type": "code",
   "execution_count": 11,
   "metadata": {
    "colab": {
     "base_uri": "https://localhost:8080/",
     "height": 121
    },
    "colab_type": "code",
    "executionInfo": {
     "elapsed": 2705,
     "status": "ok",
     "timestamp": 1560917636956,
     "user": {
      "displayName": "WEI-YU CHEN",
      "photoUrl": "https://lh5.googleusercontent.com/-ZhOppdoWK9o/AAAAAAAAAAI/AAAAAAAAFSM/vIA6v1GeqQg/s64/photo.jpg",
      "userId": "17785573646687049061"
     },
     "user_tz": -480
    },
    "id": "P0DIMSlEPb28",
    "outputId": "186877ad-d320-4cd5-f146-ef843859b78c"
   },
   "outputs": [
    {
     "name": "stdout",
     "output_type": "stream",
     "text": [
      "b [[ 0.61453575 -0.38794178]]\n",
      "w [[-0.3051256  -0.01145133]\n",
      " [-0.61085373 -1.0193056 ]\n",
      " [ 0.8989966   0.11879448]]\n",
      "x [[0.4 0.2 0.4]]\n",
      "y [[0.7299134 0.       ]]\n"
     ]
    }
   ],
   "source": [
    "w = tf.Variable(tf.random_normal([3, 2]))\n",
    "b = tf.Variable(tf.random_normal([1, 2]))\n",
    "x = tf.placeholder('float', [None, 3])\n",
    "y = tf.nn.relu(tf.matmul(x, w) + b)\n",
    "with tf.Session() as sess:\n",
    "    sess.run(tf.global_variables_initializer())\n",
    "    x_array = np.array([[0.4, 0.2, 0.4]])\n",
    "    (_b, _w, _x, _y) = sess.run((b, w, x, y), feed_dict={x: x_array})\n",
    "    print('b', _b)\n",
    "    print('w', _w)\n",
    "    print('x', _x)\n",
    "    print('y', _y)"
   ]
  },
  {
   "cell_type": "code",
   "execution_count": 12,
   "metadata": {
    "colab": {
     "base_uri": "https://localhost:8080/",
     "height": 243
    },
    "colab_type": "code",
    "executionInfo": {
     "elapsed": 2669,
     "status": "ok",
     "timestamp": 1560917636958,
     "user": {
      "displayName": "WEI-YU CHEN",
      "photoUrl": "https://lh5.googleusercontent.com/-ZhOppdoWK9o/AAAAAAAAAAI/AAAAAAAAFSM/vIA6v1GeqQg/s64/photo.jpg",
      "userId": "17785573646687049061"
     },
     "user_tz": -480
    },
    "id": "3Ep3Ideeh2HS",
    "outputId": "e5886db9-99b9-4927-d3c4-2d18d3031a42"
   },
   "outputs": [
    {
     "name": "stdout",
     "output_type": "stream",
     "text": [
      "b [[ 0.45689255 -0.40107608]]\n",
      "w [[ 0.9814545   0.38382658]\n",
      " [-0.07024652  1.0128111 ]\n",
      " [-0.0026022  -0.3501017 ]]\n",
      "x [[ 0.4  0.2  0.4]\n",
      " [ 0.3  0.4  0.5]\n",
      " [ 0.3 -0.4  0.5]]\n",
      "y [[0.8343842 0.       ]\n",
      " [0.7219292 0.       ]\n",
      " [0.7781264 0.       ]]\n"
     ]
    }
   ],
   "source": [
    "w = tf.Variable(tf.random_normal([3, 2]))\n",
    "b = tf.Variable(tf.random_normal([1, 2]))\n",
    "x = tf.placeholder('float', [None, 3])\n",
    "y = tf.nn.relu(tf.matmul(x, w) + b)\n",
    "with tf.Session() as sess:\n",
    "    sess.run(tf.global_variables_initializer())\n",
    "    x_array = np.array([[0.4, 0.2, 0.4], [0.3, 0.4, 0.5], [0.3, -0.4, 0.5]])\n",
    "    (_b, _w, _x, _y) = sess.run((b, w, x, y), feed_dict={x: x_array})\n",
    "    print('b', _b)\n",
    "    print('w', _w)\n",
    "    print('x', _x)\n",
    "    print('y', _y)"
   ]
  },
  {
   "cell_type": "code",
   "execution_count": 13,
   "metadata": {
    "colab": {},
    "colab_type": "code",
    "id": "OIuXAb3aW0FN"
   },
   "outputs": [],
   "source": [
    "def layer(output_dim, input_dim, inputs, activation=None):\n",
    "    w = tf.Variable(tf.random_normal([input_dim, output_dim]))\n",
    "    b = tf.Variable(tf.random_normal([1, output_dim]))\n",
    "    xwb = tf.matmul(inputs, w) + b\n",
    "    if activation is None:\n",
    "        outputs = xwb\n",
    "    else:\n",
    "        outputs = activation(xwb)\n",
    "    return outputs"
   ]
  },
  {
   "cell_type": "code",
   "execution_count": 14,
   "metadata": {
    "colab": {
     "base_uri": "https://localhost:8080/",
     "height": 69
    },
    "colab_type": "code",
    "executionInfo": {
     "elapsed": 2623,
     "status": "ok",
     "timestamp": 1560917636970,
     "user": {
      "displayName": "WEI-YU CHEN",
      "photoUrl": "https://lh5.googleusercontent.com/-ZhOppdoWK9o/AAAAAAAAAAI/AAAAAAAAFSM/vIA6v1GeqQg/s64/photo.jpg",
      "userId": "17785573646687049061"
     },
     "user_tz": -480
    },
    "id": "JXf7Qle5Y9k8",
    "outputId": "6994276a-2555-4c27-9d9f-4bd4dd26b0b8"
   },
   "outputs": [
    {
     "name": "stdout",
     "output_type": "stream",
     "text": [
      "x [[0.4 0.2 0.4 0.5]]\n",
      "h [[0.         0.47724557 0.        ]]\n",
      "y [[-2.5575814 -1.5937452]]\n"
     ]
    }
   ],
   "source": [
    "x = tf.placeholder('float', [None, 4])\n",
    "h = layer(output_dim=3, input_dim=4, inputs=x, activation=tf.nn.relu)\n",
    "y = layer(output_dim=2, input_dim=3, inputs=h)\n",
    "with tf.Session() as sess:\n",
    "    sess.run(tf.global_variables_initializer())\n",
    "    x_array = np.array([[0.4, 0.2, 0.4, 0.5]])\n",
    "    (layer_x, layer_h, layer_y) = sess.run((x, h, y), feed_dict={x: x_array})\n",
    "    print('x', layer_x)\n",
    "    print('h', layer_h)\n",
    "    print('y', layer_y)"
   ]
  },
  {
   "cell_type": "code",
   "execution_count": 15,
   "metadata": {
    "colab": {},
    "colab_type": "code",
    "id": "x4rTzNeGcv-X"
   },
   "outputs": [],
   "source": [
    "def layer_debug(output_dim, input_dim, inputs, activation=None):\n",
    "    w = tf.Variable(tf.random_normal([input_dim, output_dim]))\n",
    "    b = tf.Variable(tf.random_normal([1, output_dim]))\n",
    "    xwb = tf.matmul(inputs, w) + b\n",
    "    if activation is None:\n",
    "        outputs = xwb\n",
    "    else:\n",
    "        outputs = activation(xwb)\n",
    "    return outputs, w, b"
   ]
  },
  {
   "cell_type": "code",
   "execution_count": 16,
   "metadata": {
    "colab": {
     "base_uri": "https://localhost:8080/",
     "height": 175
    },
    "colab_type": "code",
    "executionInfo": {
     "elapsed": 2902,
     "status": "ok",
     "timestamp": 1560917637285,
     "user": {
      "displayName": "WEI-YU CHEN",
      "photoUrl": "https://lh5.googleusercontent.com/-ZhOppdoWK9o/AAAAAAAAAAI/AAAAAAAAFSM/vIA6v1GeqQg/s64/photo.jpg",
      "userId": "17785573646687049061"
     },
     "user_tz": -480
    },
    "id": "tEJgGqoAdH4W",
    "outputId": "c4b0fd3b-66b5-4579-b1cd-5c0a33e0f09d"
   },
   "outputs": [
    {
     "name": "stdout",
     "output_type": "stream",
     "text": [
      "x [[0.4 0.2 0.4 0.5]]\n",
      "w1 [[ 0.56479335  0.17774734  0.37167758]\n",
      " [-1.3447865   1.8802956   1.2098604 ]\n",
      " [ 0.11083107 -1.4501673   0.0308846 ]\n",
      " [-0.98695594 -1.3516685   1.8796177 ]]\n",
      "b1 [[ 0.6990733  -0.69553846 -0.20992617]]\n",
      "h [[0.20688778 0.         1.1328797 ]]\n",
      "w2 [[ 0.4194119  -1.3557823 ]\n",
      " [-0.53353906  1.758609  ]\n",
      " [-0.05006111  0.17893101]]\n",
      "b1 [[0.19953044 1.7045519 ]]\n",
      "y [[0.22958842 1.6267645 ]]\n"
     ]
    }
   ],
   "source": [
    "x = tf.placeholder('float', [None, 4])\n",
    "h, w1, b1 = layer_debug(output_dim=3, input_dim=4, inputs=x, activation=tf.nn.relu)\n",
    "y, w2, b2 = layer_debug(output_dim=2, input_dim=3, inputs=h)\n",
    "with tf.Session() as sess:\n",
    "    sess.run(tf.global_variables_initializer())\n",
    "    x_array = np.array([[0.4, 0.2, 0.4, 0.5]])\n",
    "    (layer_x, layer_h, layer_y, w1, b1, w2, b2) = sess.run((x, h, y, w1, b1, w2, b2), feed_dict={x: x_array})\n",
    "    print('x', layer_x)\n",
    "    print('w1', w1)\n",
    "    print('b1', b1)\n",
    "    print('h', layer_h)\n",
    "    print('w2', w2)\n",
    "    print('b1', b2)\n",
    "    print('y', layer_y)"
   ]
  }
 ],
 "metadata": {
  "colab": {
   "collapsed_sections": [],
   "name": "16. Tensorflow neural.ipynb",
   "provenance": [],
   "version": "0.3.2"
  },
  "kernelspec": {
   "display_name": "Python 3",
   "language": "python",
   "name": "python3"
  },
  "language_info": {
   "codemirror_mode": {
    "name": "ipython",
    "version": 3
   },
   "file_extension": ".py",
   "mimetype": "text/x-python",
   "name": "python",
   "nbconvert_exporter": "python",
   "pygments_lexer": "ipython3",
   "version": "3.7.3"
  },
  "pycharm": {
   "stem_cell": {
    "cell_type": "raw",
    "metadata": {
     "collapsed": false
    },
    "source": []
   }
  }
 },
 "nbformat": 4,
 "nbformat_minor": 1
}
