{
 "cells": [
  {
   "cell_type": "code",
   "execution_count": 1,
   "metadata": {
    "colab": {},
    "colab_type": "code",
    "id": "7ES7UgN2KARu"
   },
   "outputs": [],
   "source": [
    "import matplotlib.pyplot as plt\n",
    "import numpy as np\n",
    "import tensorflow as tf\n",
    "import tensorflow.examples.tutorials.mnist.input_data as input_data\n",
    "import time"
   ]
  },
  {
   "cell_type": "code",
   "execution_count": 2,
   "metadata": {
    "colab": {
     "base_uri": "https://localhost:8080/",
     "height": 451
    },
    "colab_type": "code",
    "executionInfo": {
     "elapsed": 4052,
     "status": "ok",
     "timestamp": 1561036754211,
     "user": {
      "displayName": "WEI-YU CHEN",
      "photoUrl": "https://lh5.googleusercontent.com/-ZhOppdoWK9o/AAAAAAAAAAI/AAAAAAAAFSM/vIA6v1GeqQg/s64/photo.jpg",
      "userId": "17785573646687049061"
     },
     "user_tz": -480
    },
    "id": "xaqj-n_WKtM0",
    "outputId": "7f2f4c7b-4b4b-44eb-81a6-ae95e0aa8e5d"
   },
   "outputs": [
    {
     "name": "stderr",
     "output_type": "stream",
     "text": [
      "WARNING: Logging before flag parsing goes to stderr.\n",
      "W0624 14:33:41.900536  6328 deprecation.py:323] From <ipython-input-2-319879c4c296>:1: read_data_sets (from tensorflow.contrib.learn.python.learn.datasets.mnist) is deprecated and will be removed in a future version.\n",
      "Instructions for updating:\n",
      "Please use alternatives such as official/mnist/dataset.py from tensorflow/models.\n",
      "W0624 14:33:41.907529  6328 deprecation.py:323] From D:\\Anaconda3\\envs\\tensorflow\\lib\\site-packages\\tensorflow\\contrib\\learn\\python\\learn\\datasets\\mnist.py:260: maybe_download (from tensorflow.contrib.learn.python.learn.datasets.base) is deprecated and will be removed in a future version.\n",
      "Instructions for updating:\n",
      "Please write your own downloading logic.\n",
      "W0624 14:33:41.908529  6328 deprecation.py:323] From D:\\Anaconda3\\envs\\tensorflow\\lib\\site-packages\\tensorflow\\contrib\\learn\\python\\learn\\datasets\\mnist.py:262: extract_images (from tensorflow.contrib.learn.python.learn.datasets.mnist) is deprecated and will be removed in a future version.\n",
      "Instructions for updating:\n",
      "Please use tf.data to implement this functionality.\n"
     ]
    },
    {
     "name": "stdout",
     "output_type": "stream",
     "text": [
      "Extracting MNIST_data/train-images-idx3-ubyte.gz\n"
     ]
    },
    {
     "name": "stderr",
     "output_type": "stream",
     "text": [
      "W0624 14:33:42.284300  6328 deprecation.py:323] From D:\\Anaconda3\\envs\\tensorflow\\lib\\site-packages\\tensorflow\\contrib\\learn\\python\\learn\\datasets\\mnist.py:267: extract_labels (from tensorflow.contrib.learn.python.learn.datasets.mnist) is deprecated and will be removed in a future version.\n",
      "Instructions for updating:\n",
      "Please use tf.data to implement this functionality.\n",
      "W0624 14:33:42.288297  6328 deprecation.py:323] From D:\\Anaconda3\\envs\\tensorflow\\lib\\site-packages\\tensorflow\\contrib\\learn\\python\\learn\\datasets\\mnist.py:110: dense_to_one_hot (from tensorflow.contrib.learn.python.learn.datasets.mnist) is deprecated and will be removed in a future version.\n",
      "Instructions for updating:\n",
      "Please use tf.one_hot on tensors.\n",
      "W0624 14:33:42.359253  6328 deprecation.py:323] From D:\\Anaconda3\\envs\\tensorflow\\lib\\site-packages\\tensorflow\\contrib\\learn\\python\\learn\\datasets\\mnist.py:290: DataSet.__init__ (from tensorflow.contrib.learn.python.learn.datasets.mnist) is deprecated and will be removed in a future version.\n",
      "Instructions for updating:\n",
      "Please use alternatives such as official/mnist/dataset.py from tensorflow/models.\n"
     ]
    },
    {
     "name": "stdout",
     "output_type": "stream",
     "text": [
      "Extracting MNIST_data/train-labels-idx1-ubyte.gz\n",
      "Extracting MNIST_data/t10k-images-idx3-ubyte.gz\n",
      "Extracting MNIST_data/t10k-labels-idx1-ubyte.gz\n"
     ]
    }
   ],
   "source": [
    "mnist = input_data.read_data_sets('MNIST_data/', one_hot=True)"
   ]
  },
  {
   "cell_type": "code",
   "execution_count": 3,
   "metadata": {
    "colab": {},
    "colab_type": "code",
    "id": "fIjUZIAxLGCM"
   },
   "outputs": [],
   "source": [
    "def weight(shape):\n",
    "    return tf.Variable(tf.truncated_normal(shape, stddev=0.1), name='w')"
   ]
  },
  {
   "cell_type": "code",
   "execution_count": 4,
   "metadata": {
    "colab": {},
    "colab_type": "code",
    "id": "uFjHIYp6LcYw"
   },
   "outputs": [],
   "source": [
    "def bias(shape):\n",
    "    return tf.Variable(tf.constant(0.1, shape=shape), name='b')"
   ]
  },
  {
   "cell_type": "code",
   "execution_count": 5,
   "metadata": {
    "colab": {},
    "colab_type": "code",
    "id": "Os69NIWzL99Q"
   },
   "outputs": [],
   "source": [
    "def conv2d(x, w):\n",
    "    return tf.nn.conv2d(x, w, strides=[1, 1, 1, 1], padding='SAME')"
   ]
  },
  {
   "cell_type": "code",
   "execution_count": 6,
   "metadata": {
    "colab": {},
    "colab_type": "code",
    "id": "GusQq3OlMf3x"
   },
   "outputs": [],
   "source": [
    "def max_pool_2x2(x):\n",
    "    return tf.nn.max_pool(x, ksize=[1, 2, 2, 1], strides=[1, 2, 2, 1], padding='SAME')"
   ]
  },
  {
   "cell_type": "code",
   "execution_count": 7,
   "metadata": {
    "colab": {},
    "colab_type": "code",
    "id": "jg4_NoB_NGwW"
   },
   "outputs": [],
   "source": [
    "with tf.name_scope('Input_Layer'):\n",
    "    x = tf.placeholder('float', shape=[None, 784], name='x')\n",
    "    x_image = tf.reshape(x, [-1, 28, 28, 1])"
   ]
  },
  {
   "cell_type": "code",
   "execution_count": 8,
   "metadata": {
    "colab": {},
    "colab_type": "code",
    "id": "1fpMBbKgNt6x"
   },
   "outputs": [],
   "source": [
    "with tf.name_scope('C1_Conv'):\n",
    "    w1 = weight([5, 5, 1,16])\n",
    "    b1 = bias([16])\n",
    "    conv1 = conv2d(x_image, w1) + b1\n",
    "    C1_Conv = tf.nn.relu(conv1)"
   ]
  },
  {
   "cell_type": "code",
   "execution_count": 9,
   "metadata": {
    "colab": {},
    "colab_type": "code",
    "id": "2EHDl_hqOxgk"
   },
   "outputs": [],
   "source": [
    "with tf.name_scope('C1_Pool'):\n",
    "    C1_Pool = max_pool_2x2(C1_Conv)"
   ]
  },
  {
   "cell_type": "code",
   "execution_count": 10,
   "metadata": {
    "colab": {},
    "colab_type": "code",
    "id": "g1TY-dnMPE01"
   },
   "outputs": [],
   "source": [
    "with tf.name_scope('C2_Conv'):\n",
    "    w2 = weight([5, 5, 16, 36])\n",
    "    b2 = bias([36])\n",
    "    conv2 = conv2d(C1_Pool, w2) + b2\n",
    "    C2_Conv = tf.nn.relu(conv2)"
   ]
  },
  {
   "cell_type": "code",
   "execution_count": 11,
   "metadata": {
    "colab": {},
    "colab_type": "code",
    "id": "pM7HffYxPv1J"
   },
   "outputs": [],
   "source": [
    "with tf.name_scope('C2_Pool'):\n",
    "    C2_Pool = max_pool_2x2(C2_Conv)"
   ]
  },
  {
   "cell_type": "code",
   "execution_count": 12,
   "metadata": {
    "colab": {},
    "colab_type": "code",
    "id": "S5IK12twQAhb"
   },
   "outputs": [],
   "source": [
    "with tf.name_scope('D_Flat'):\n",
    "    D_Flat = tf.reshape(C2_Pool, [-1, 1764])"
   ]
  },
  {
   "cell_type": "code",
   "execution_count": 13,
   "metadata": {
    "colab": {
     "base_uri": "https://localhost:8080/",
     "height": 111
    },
    "colab_type": "code",
    "executionInfo": {
     "elapsed": 4259,
     "status": "ok",
     "timestamp": 1561036754525,
     "user": {
      "displayName": "WEI-YU CHEN",
      "photoUrl": "https://lh5.googleusercontent.com/-ZhOppdoWK9o/AAAAAAAAAAI/AAAAAAAAFSM/vIA6v1GeqQg/s64/photo.jpg",
      "userId": "17785573646687049061"
     },
     "user_tz": -480
    },
    "id": "45fk4M0DQSzw",
    "outputId": "5bed3f05-e20d-4652-a83e-b7af18df911d"
   },
   "outputs": [
    {
     "name": "stderr",
     "output_type": "stream",
     "text": [
      "W0624 14:33:44.278198  6328 deprecation.py:506] From <ipython-input-13-a69707b132a3>:5: calling dropout (from tensorflow.python.ops.nn_ops) with keep_prob is deprecated and will be removed in a future version.\n",
      "Instructions for updating:\n",
      "Please use `rate` instead of `keep_prob`. Rate should be set to `rate = 1 - keep_prob`.\n"
     ]
    }
   ],
   "source": [
    "with tf.name_scope('D_Hidden_Layer'):\n",
    "    w3 = weight([1764, 128])\n",
    "    b3 = bias([128])\n",
    "    D_Hidden = tf.nn.relu(tf.matmul(D_Flat, w3) + b3)\n",
    "    D_Hidden_Dropout = tf.nn.dropout(D_Hidden, keep_prob=0.8)"
   ]
  },
  {
   "cell_type": "code",
   "execution_count": 14,
   "metadata": {
    "colab": {},
    "colab_type": "code",
    "id": "5R3uaj6cRGkU"
   },
   "outputs": [],
   "source": [
    "with tf.name_scope('Output_Layer'):\n",
    "    w4 = weight([128, 10])\n",
    "    b4 = bias([10])\n",
    "    y_predict = tf.nn.softmax(tf.matmul(D_Hidden_Dropout, w4) + b4)"
   ]
  },
  {
   "cell_type": "code",
   "execution_count": 15,
   "metadata": {
    "colab": {
     "base_uri": "https://localhost:8080/",
     "height": 221
    },
    "colab_type": "code",
    "executionInfo": {
     "elapsed": 4535,
     "status": "ok",
     "timestamp": 1561036754826,
     "user": {
      "displayName": "WEI-YU CHEN",
      "photoUrl": "https://lh5.googleusercontent.com/-ZhOppdoWK9o/AAAAAAAAAAI/AAAAAAAAFSM/vIA6v1GeqQg/s64/photo.jpg",
      "userId": "17785573646687049061"
     },
     "user_tz": -480
    },
    "id": "ecycSDinRwDy",
    "outputId": "ae7643e1-7cb5-480b-b7df-5cba74d1d82f"
   },
   "outputs": [
    {
     "name": "stderr",
     "output_type": "stream",
     "text": [
      "W0624 14:33:44.552005  6328 deprecation.py:323] From <ipython-input-15-63943add4f42>:3: softmax_cross_entropy_with_logits (from tensorflow.python.ops.nn_ops) is deprecated and will be removed in a future version.\n",
      "Instructions for updating:\n",
      "\n",
      "Future major versions of TensorFlow will allow gradients to flow\n",
      "into the labels input on backprop by default.\n",
      "\n",
      "See `tf.nn.softmax_cross_entropy_with_logits_v2`.\n",
      "\n"
     ]
    }
   ],
   "source": [
    "with tf.name_scope('optimizer'):\n",
    "    y_label = tf.placeholder('float', shape=[None, 10], name='y_label')\n",
    "    loss_function = tf.reduce_mean(tf.nn.softmax_cross_entropy_with_logits(logits=y_predict, labels=y_label))\n",
    "    optimizer = tf.train.AdamOptimizer(learning_rate=0.0001).minimize(loss_function)"
   ]
  },
  {
   "cell_type": "code",
   "execution_count": 16,
   "metadata": {
    "colab": {
     "base_uri": "https://localhost:8080/",
     "height": 111
    },
    "colab_type": "code",
    "executionInfo": {
     "elapsed": 4521,
     "status": "ok",
     "timestamp": 1561036754828,
     "user": {
      "displayName": "WEI-YU CHEN",
      "photoUrl": "https://lh5.googleusercontent.com/-ZhOppdoWK9o/AAAAAAAAAAI/AAAAAAAAFSM/vIA6v1GeqQg/s64/photo.jpg",
      "userId": "17785573646687049061"
     },
     "user_tz": -480
    },
    "id": "Dk1X7qnJS-e-",
    "outputId": "b353b924-08c8-4113-f4b5-9d3f347c25bd"
   },
   "outputs": [
    {
     "name": "stderr",
     "output_type": "stream",
     "text": [
      "W0624 14:33:44.847822  6328 deprecation.py:323] From <ipython-input-16-a2b103d1b4cc>:2: arg_max (from tensorflow.python.ops.gen_math_ops) is deprecated and will be removed in a future version.\n",
      "Instructions for updating:\n",
      "Use `tf.math.argmax` instead\n"
     ]
    }
   ],
   "source": [
    "with tf.name_scope('evaluate_model'):\n",
    "    correct_prediction = tf.equal(tf.argmax(y_predict, 1), tf.arg_max(y_label, 1))\n",
    "    accuracy = tf.reduce_mean(tf.cast(correct_prediction, 'float'))"
   ]
  },
  {
   "cell_type": "code",
   "execution_count": 17,
   "metadata": {
    "colab": {},
    "colab_type": "code",
    "id": "neQ3pW5tTxox"
   },
   "outputs": [],
   "source": [
    "train_epochs = 30\n",
    "batch_size = 100\n",
    "total_batchs = int(mnist.train.num_examples / batch_size)\n",
    "epoch_list = []\n",
    "accuracy_list = []\n",
    "loss_list = []\n",
    "\n",
    "start_time = time.time()\n",
    "\n",
    "sess = tf.Session()\n",
    "sess.run(tf.global_variables_initializer())"
   ]
  },
  {
   "cell_type": "code",
   "execution_count": 18,
   "metadata": {
    "colab": {
     "base_uri": "https://localhost:8080/",
     "height": 575
    },
    "colab_type": "code",
    "executionInfo": {
     "elapsed": 1873889,
     "status": "ok",
     "timestamp": 1561038624219,
     "user": {
      "displayName": "WEI-YU CHEN",
      "photoUrl": "https://lh5.googleusercontent.com/-ZhOppdoWK9o/AAAAAAAAAAI/AAAAAAAAFSM/vIA6v1GeqQg/s64/photo.jpg",
      "userId": "17785573646687049061"
     },
     "user_tz": -480
    },
    "id": "MOfnA9btLrFN",
    "outputId": "76a0d3da-af47-49f0-90a7-0f5a1def1b8d"
   },
   "outputs": [
    {
     "name": "stdout",
     "output_type": "stream",
     "text": [
      "Train Epoch: 01 Loss= 1.581947803 Accuracy= 0.9064\n",
      "Train Epoch: 02 Loss= 1.538594365 Accuracy= 0.9324\n",
      "Train Epoch: 03 Loss= 1.520123839 Accuracy= 0.9494\n",
      "Train Epoch: 04 Loss= 1.508325934 Accuracy= 0.9588\n",
      "Train Epoch: 05 Loss= 1.502163529 Accuracy= 0.965\n",
      "Train Epoch: 06 Loss= 1.498953223 Accuracy= 0.967\n",
      "Train Epoch: 07 Loss= 1.493265867 Accuracy= 0.9712\n",
      "Train Epoch: 08 Loss= 1.490195870 Accuracy= 0.9734\n",
      "Train Epoch: 09 Loss= 1.490675688 Accuracy= 0.9728\n",
      "Train Epoch: 10 Loss= 1.487018704 Accuracy= 0.9766\n",
      "Train Epoch: 11 Loss= 1.486655235 Accuracy= 0.9774\n",
      "Train Epoch: 12 Loss= 1.486393571 Accuracy= 0.9776\n",
      "Train Epoch: 13 Loss= 1.483861566 Accuracy= 0.9778\n",
      "Train Epoch: 14 Loss= 1.482590318 Accuracy= 0.9808\n",
      "Train Epoch: 15 Loss= 1.480504632 Accuracy= 0.9828\n",
      "Train Epoch: 16 Loss= 1.482350945 Accuracy= 0.9804\n",
      "Train Epoch: 17 Loss= 1.480824471 Accuracy= 0.982\n",
      "Train Epoch: 18 Loss= 1.478852510 Accuracy= 0.984\n",
      "Train Epoch: 19 Loss= 1.479546189 Accuracy= 0.9826\n",
      "Train Epoch: 20 Loss= 1.478169322 Accuracy= 0.9842\n",
      "Train Epoch: 21 Loss= 1.479734778 Accuracy= 0.9826\n",
      "Train Epoch: 22 Loss= 1.477778554 Accuracy= 0.985\n",
      "Train Epoch: 23 Loss= 1.478477716 Accuracy= 0.984\n",
      "Train Epoch: 24 Loss= 1.477117419 Accuracy= 0.9846\n",
      "Train Epoch: 25 Loss= 1.477607608 Accuracy= 0.9844\n",
      "Train Epoch: 26 Loss= 1.477550149 Accuracy= 0.9852\n",
      "Train Epoch: 27 Loss= 1.478242755 Accuracy= 0.984\n",
      "Train Epoch: 28 Loss= 1.477578759 Accuracy= 0.984\n",
      "Train Epoch: 29 Loss= 1.476745844 Accuracy= 0.9856\n",
      "Train Epoch: 30 Loss= 1.476266026 Accuracy= 0.9852\n",
      "Train Finished takes: 1673.3319532871246\n"
     ]
    }
   ],
   "source": [
    "for epoch in range(train_epochs):\n",
    "    for i in range(total_batchs):\n",
    "        batch_x, batch_y = mnist.train.next_batch(batch_size)\n",
    "        sess.run(optimizer, feed_dict={x:  batch_x, y_label: batch_y})\n",
    "  \n",
    "    loss, acc = sess.run([loss_function, accuracy], feed_dict={x: mnist.validation.images, y_label: mnist.validation.labels})\n",
    "    \n",
    "    epoch_list.append(epoch)\n",
    "    loss_list.append(loss)\n",
    "    accuracy_list.append(acc)\n",
    "    print('Train Epoch:', '%02d' % (epoch + 1), 'Loss=', '{:.9f}'.format(loss), 'Accuracy=', acc)\n",
    "duration = time.time() - start_time\n",
    "print('Train Finished takes:', duration)"
   ]
  },
  {
   "cell_type": "code",
   "execution_count": 19,
   "metadata": {
    "colab": {
     "base_uri": "https://localhost:8080/",
     "height": 192
    },
    "colab_type": "code",
    "executionInfo": {
     "elapsed": 1873880,
     "status": "ok",
     "timestamp": 1561038624223,
     "user": {
      "displayName": "WEI-YU CHEN",
      "photoUrl": "https://lh5.googleusercontent.com/-ZhOppdoWK9o/AAAAAAAAAAI/AAAAAAAAFSM/vIA6v1GeqQg/s64/photo.jpg",
      "userId": "17785573646687049061"
     },
     "user_tz": -480
    },
    "id": "nqlECj2TeaO5",
    "outputId": "6ebe85af-52c0-4aee-a6c5-4842320e1a51"
   },
   "outputs": [
    {
     "data": {
      "text/plain": [
       "<matplotlib.legend.Legend at 0x2232d6f6710>"
      ]
     },
     "execution_count": 19,
     "metadata": {},
     "output_type": "execute_result"
    },
    {
     "data": {
      "image/png": "[encoded data removed]",
      "text/plain": [
       "<Figure size 288x144 with 1 Axes>"
      ]
     },
     "metadata": {
      "needs_background": "light"
     },
     "output_type": "display_data"
    }
   ],
   "source": [
    "fig = plt.gcf()\n",
    "fig.set_size_inches(4, 2)\n",
    "plt.plot(epoch_list, loss_list, label='loss')\n",
    "plt.ylabel('loss')\n",
    "plt.xlabel('epoch')\n",
    "plt.legend(['loss'], loc='upper right')"
   ]
  },
  {
   "cell_type": "code",
   "execution_count": 20,
   "metadata": {
    "colab": {
     "base_uri": "https://localhost:8080/",
     "height": 192
    },
    "colab_type": "code",
    "executionInfo": {
     "elapsed": 1873870,
     "status": "ok",
     "timestamp": 1561038624226,
     "user": {
      "displayName": "WEI-YU CHEN",
      "photoUrl": "https://lh5.googleusercontent.com/-ZhOppdoWK9o/AAAAAAAAAAI/AAAAAAAAFSM/vIA6v1GeqQg/s64/photo.jpg",
      "userId": "17785573646687049061"
     },
     "user_tz": -480
    },
    "id": "dTCv-knyefNi",
    "outputId": "d8f7e284-1040-439d-f1a2-9671bfade70c"
   },
   "outputs": [
    {
     "data": {
      "text/plain": [
       "<matplotlib.legend.Legend at 0x2232d774160>"
      ]
     },
     "execution_count": 20,
     "metadata": {},
     "output_type": "execute_result"
    },
    {
     "data": {
      "image/png": "[encoded data removed]",
      "text/plain": [
       "<Figure size 288x144 with 1 Axes>"
      ]
     },
     "metadata": {
      "needs_background": "light"
     },
     "output_type": "display_data"
    }
   ],
   "source": [
    "fig = plt.gcf()\n",
    "fig.set_size_inches(4, 2)\n",
    "plt.plot(epoch_list, accuracy_list, label='accuracy')\n",
    "plt.ylabel('accuracy')\n",
    "plt.xlabel('epoch')\n",
    "plt.legend(['accuracy'], loc='lower right')"
   ]
  },
  {
   "cell_type": "code",
   "execution_count": 21,
   "metadata": {
    "colab": {
     "base_uri": "https://localhost:8080/",
     "height": 35
    },
    "colab_type": "code",
    "executionInfo": {
     "elapsed": 1877840,
     "status": "ok",
     "timestamp": 1561038628208,
     "user": {
      "displayName": "WEI-YU CHEN",
      "photoUrl": "https://lh5.googleusercontent.com/-ZhOppdoWK9o/AAAAAAAAAAI/AAAAAAAAFSM/vIA6v1GeqQg/s64/photo.jpg",
      "userId": "17785573646687049061"
     },
     "user_tz": -480
    },
    "id": "T3nKnfFQUAln",
    "outputId": "b9fa8448-8624-4203-df1a-06a1db282108"
   },
   "outputs": [
    {
     "name": "stdout",
     "output_type": "stream",
     "text": [
      "Accuracy: 0.9864\n"
     ]
    }
   ],
   "source": [
    "print('Accuracy:', sess.run(accuracy, feed_dict={x: mnist.test.images, y_label: mnist.test.labels}))"
   ]
  },
  {
   "cell_type": "code",
   "execution_count": 22,
   "metadata": {
    "colab": {},
    "colab_type": "code",
    "id": "7-xwfwg9U0DY"
   },
   "outputs": [],
   "source": [
    "prediction_result = sess.run(tf.argmax(y_predict, 1), feed_dict={x: mnist.test.images})"
   ]
  },
  {
   "cell_type": "code",
   "execution_count": 23,
   "metadata": {
    "colab": {
     "base_uri": "https://localhost:8080/",
     "height": 35
    },
    "colab_type": "code",
    "executionInfo": {
     "elapsed": 1880606,
     "status": "ok",
     "timestamp": 1561038630992,
     "user": {
      "displayName": "WEI-YU CHEN",
      "photoUrl": "https://lh5.googleusercontent.com/-ZhOppdoWK9o/AAAAAAAAAAI/AAAAAAAAFSM/vIA6v1GeqQg/s64/photo.jpg",
      "userId": "17785573646687049061"
     },
     "user_tz": -480
    },
    "id": "wpyawE5RVpjd",
    "outputId": "edcbeea9-edf8-4d0a-bcb4-13fe10328410"
   },
   "outputs": [
    {
     "data": {
      "text/plain": [
       "array([7, 2, 1, 0, 4, 1, 4, 9, 5, 9], dtype=int64)"
      ]
     },
     "execution_count": 23,
     "metadata": {},
     "output_type": "execute_result"
    }
   ],
   "source": [
    "prediction_result[:10]"
   ]
  },
  {
   "cell_type": "code",
   "execution_count": 24,
   "metadata": {
    "colab": {},
    "colab_type": "code",
    "id": "8tEF3cvrfUi-"
   },
   "outputs": [],
   "source": [
    "def plot_images_labels_prediction(images, labels, prediction, idx, num=10):\n",
    "    fig = plt.gcf()\n",
    "    fig.set_size_inches(12, 14)\n",
    "    if num > 25: num = 25\n",
    "    for i in range(0, num):\n",
    "        ax = plt.subplot(5, 5, i + 1)\n",
    "        ax.imshow(np.reshape(images[idx], (28, 28)), cmap='binary')\n",
    "        title = 'label=' + str(np.argmax(labels[idx]))\n",
    "        if len(prediction) > 0:\n",
    "            title += ', predict=' + str(prediction[idx])\n",
    "        ax.set_title(title, fontsize=10)\n",
    "        ax.set_xticks([])\n",
    "        ax.set_yticks([])\n",
    "        idx += 1\n",
    "    plt.show()"
   ]
  },
  {
   "cell_type": "code",
   "execution_count": 25,
   "metadata": {
    "colab": {
     "base_uri": "https://localhost:8080/",
     "height": 341
    },
    "colab_type": "code",
    "executionInfo": {
     "elapsed": 1881012,
     "status": "ok",
     "timestamp": 1561038631416,
     "user": {
      "displayName": "WEI-YU CHEN",
      "photoUrl": "https://lh5.googleusercontent.com/-ZhOppdoWK9o/AAAAAAAAAAI/AAAAAAAAFSM/vIA6v1GeqQg/s64/photo.jpg",
      "userId": "17785573646687049061"
     },
     "user_tz": -480
    },
    "id": "L5qAZm_Rfykp",
    "outputId": "9f0d3bde-4628-4723-b1bf-1c0fb6d2e25c"
   },
   "outputs": [
    {
     "data": {
      "image/png": "[encoded data removed]",
      "text/plain": [
       "<Figure size 864x1008 with 10 Axes>"
      ]
     },
     "metadata": {},
     "output_type": "display_data"
    }
   ],
   "source": [
    "plot_images_labels_prediction(mnist.test.images, mnist.test.labels, prediction_result, 0)"
   ]
  },
  {
   "cell_type": "code",
   "execution_count": 26,
   "metadata": {
    "colab": {},
    "colab_type": "code",
    "id": "V4jrbQMvgqKz"
   },
   "outputs": [],
   "source": [
    "merged = tf.summary.merge_all()\n",
    "train_where = tf.summary.FileWriter('log/CNN', sess.graph)"
   ]
  }
 ],
 "metadata": {
  "colab": {
   "collapsed_sections": [],
   "name": "19. Tensorflow CNN.ipynb",
   "provenance": [],
   "version": "0.3.2"
  },
  "kernelspec": {
   "display_name": "Python 3",
   "language": "python",
   "name": "python3"
  },
  "language_info": {
   "codemirror_mode": {
    "name": "ipython",
    "version": 3
   },
   "file_extension": ".py",
   "mimetype": "text/x-python",
   "name": "python",
   "nbconvert_exporter": "python",
   "pygments_lexer": "ipython3",
   "version": "3.7.3"
  },
  "pycharm": {
   "stem_cell": {
    "cell_type": "raw",
    "metadata": {
     "collapsed": false
    },
    "source": []
   }
  }
 },
 "nbformat": 4,
 "nbformat_minor": 1
}
